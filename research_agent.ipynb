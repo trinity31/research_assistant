{
 "cells": [
  {
   "cell_type": "code",
   "execution_count": 1,
   "metadata": {},
   "outputs": [
    {
     "data": {
      "text/plain": [
       "True"
      ]
     },
     "execution_count": 1,
     "metadata": {},
     "output_type": "execute_result"
    }
   ],
   "source": [
    "from dotenv import load_dotenv\n",
    "\n",
    "load_dotenv()"
   ]
  },
  {
   "cell_type": "markdown",
   "metadata": {},
   "source": [
    "### 1. 그래프 상태 정의"
   ]
  },
  {
   "cell_type": "code",
   "execution_count": 87,
   "metadata": {},
   "outputs": [],
   "source": [
    "from langchain.chains import LLMChain\n",
    "from langchain.prompts import PromptTemplate\n",
    "from langchain_ollama import ChatOllama\n",
    "from langchain_core.output_parsers import StrOutputParser\n",
    "from langchain_community.utilities import GoogleSerperAPIWrapper\n",
    "from langchain_nomic.embeddings import NomicEmbeddings\n",
    "from langgraph.graph import START, END, StateGraph\n",
    "from typing_extensions import TypedDict, List\n",
    "from bs4 import BeautifulSoup\n",
    "import requests\n",
    "import uuid\n",
    "import json\n",
    "from IPython.display import Image, display\n",
    "from langchain.text_splitter import RecursiveCharacterTextSplitter\n",
    "from langchain.vectorstores import FAISS\n",
    "from langchain.llms import OpenAI\n",
    "from langchain.chains import LLMChain\n",
    "from langchain_community.vectorstores import SKLearnVectorStore\n",
    "\n",
    "# Define the GraphState class\n",
    "class GraphState(TypedDict):\n",
    "    question: str\n",
    "    documents: List[str]\n",
    "    cleaned_text: str\n",
    "    steps: List[str]"
   ]
  },
  {
   "cell_type": "markdown",
   "metadata": {},
   "source": [
    "### 3. 노드 함수 정의"
   ]
  },
  {
   "cell_type": "code",
   "execution_count": 92,
   "metadata": {},
   "outputs": [],
   "source": [
    "# 구글에서 문서를 검색하는 노드\n",
    "def search_google(state):\n",
    "    question = state[\"question\"]\n",
    "    search = GoogleSerperAPIWrapper(gl=\"kr\", hl=\"ko\", k=10)\n",
    "    results = search.results(question)\n",
    "\n",
    "    # Print the results for debugging\n",
    "    #print(\"Search Results:\", results)\n",
    "\n",
    "    # Extract links from the 'organic' search results\n",
    "    documents = [result[\"link\"] for result in results.get(\"organic\", [])]\n",
    "    steps = state[\"steps\"]\n",
    "    steps.append(\"search_google\")\n",
    "    return {\"documents\": documents, \"question\": question, \"steps\": steps}\n",
    "\n",
    "\n",
    "# 문서의 본문을 가져오는 노드\n",
    "def fetch_documents(state):\n",
    "    documents = state[\"documents\"]\n",
    "    fetched_docs = []\n",
    "    for url in documents:\n",
    "        response = requests.get(url)\n",
    "        soup = BeautifulSoup(response.content, \"html.parser\")\n",
    "        paragraphs = soup.find_all(\"p\")\n",
    "        text = \" \".join([p.get_text() for p in paragraphs])\n",
    "        fetched_docs.append(text)\n",
    "    steps = state[\"steps\"]\n",
    "    steps.append(\"fetch_documents\")\n",
    "    return {\"documents\": fetched_docs, \"question\": state[\"question\"], \"steps\": steps}\n",
    "\n",
    "\n",
    "\n",
    "\n",
    "# 문서를 정리하는 노드\n",
    "def clean_documents(state):\n",
    "    documents = state[\"documents\"]\n",
    "    combined_text = \" \".join(documents)\n",
    "\n",
    "    # 문장을 분리\n",
    "    text_splitter = RecursiveCharacterTextSplitter(chunk_size=100, chunk_overlap=0)\n",
    "    sentences = text_splitter.split_text(combined_text)\n",
    "\n",
    "    # 문장 임베딩 생성\n",
    "    nomic_embeddings = NomicEmbeddings(\n",
    "        model=\"nomic-embed-text-v1.5\", inference_mode=\"local\"\n",
    "    )\n",
    "\n",
    "    # 유사한 문장 제거\n",
    "    vector_store = SKLearnVectorStore.from_texts(\n",
    "        texts=sentences,  # 분할된 텍스트 청크\n",
    "        embedding=nomic_embeddings,  # Nomic 임베딩 모델 사용\n",
    "    )\n",
    "\n",
    "    unique_sentences = []\n",
    "    seen_sentences = set()\n",
    "\n",
    "    for sentence in sentences:\n",
    "        # 중복 문장 여부를 확인하고 처리\n",
    "        if sentence not in seen_sentences:\n",
    "            similar_sentences = vector_store.similarity_search(sentence, k=1)\n",
    "            is_unique = True\n",
    "            for similar_sentence in similar_sentences:\n",
    "                # Document 객체의 page_content 속성을 사용해 중복을 체크\n",
    "                similar_content = similar_sentence.page_content.strip()\n",
    "                if similar_content in seen_sentences:\n",
    "                    is_unique = False\n",
    "                    break\n",
    "                seen_sentences.add(similar_content)\n",
    "\n",
    "            if is_unique:\n",
    "                unique_sentences.append(sentence)\n",
    "                seen_sentences.add(sentence.strip())\n",
    "\n",
    "    cleaned_text = \" \".join(unique_sentences)\n",
    "    steps = state[\"steps\"]\n",
    "    steps.append(\"clean_documents\")\n",
    "    return {\"cleaned_text\": cleaned_text, \"question\": state[\"question\"], \"steps\": steps}\n",
    "\n",
    "\n",
    "# 텍스트 파일로 저장하는 노드\n",
    "def save_to_file(state):\n",
    "    cleaned_text = state[\"cleaned_text\"]\n",
    "    with open(\"research_result.txt\", \"w\", encoding=\"utf-8\") as file:\n",
    "        file.write(cleaned_text)\n",
    "    steps = state[\"steps\"]\n",
    "    steps.append(\"save_to_file\")\n",
    "    return {\"cleaned_text\": cleaned_text, \"question\": state[\"question\"], \"steps\": steps}"
   ]
  },
  {
   "cell_type": "markdown",
   "metadata": {},
   "source": [
    "### 3. 그래프 정의 및 빌드"
   ]
  },
  {
   "cell_type": "code",
   "execution_count": 93,
   "metadata": {},
   "outputs": [
    {
     "data": {
      "image/jpeg": "[encoded data removed]",
      "text/plain": [
       "<IPython.core.display.Image object>"
      ]
     },
     "metadata": {},
     "output_type": "display_data"
    }
   ],
   "source": [
    "# Graph\n",
    "workflow = StateGraph(GraphState)\n",
    "\n",
    "# Define the nodes\n",
    "workflow.add_node(\"search_google\", search_google)  # Google search\n",
    "workflow.add_node(\"fetch_documents\", fetch_documents)  # Fetch documents\n",
    "workflow.add_node(\"clean_documents\", clean_documents)  # Clean documents\n",
    "workflow.add_node(\"save_to_file\", save_to_file)  # Save to file\n",
    "\n",
    "# Build graph\n",
    "workflow.add_edge(START, \"search_google\")\n",
    "workflow.add_edge(\"search_google\", \"fetch_documents\")\n",
    "workflow.add_edge(\"fetch_documents\", \"clean_documents\")\n",
    "workflow.add_edge(\"clean_documents\", \"save_to_file\")\n",
    "workflow.add_edge(\"save_to_file\", END)\n",
    "\n",
    "custom_graph = workflow.compile()\n",
    "\n",
    "display(Image(custom_graph.get_graph(xray=True).draw_mermaid_png()))"
   ]
  },
  {
   "cell_type": "markdown",
   "metadata": {},
   "source": [
    "### 4. 에이전트 실행 함수 정의"
   ]
  },
  {
   "cell_type": "code",
   "execution_count": null,
   "metadata": {},
   "outputs": [],
   "source": [
    "def predict_custom_agent_answer(example: dict):\n",
    "    config = {\"configurable\": {\"thread_id\": str(uuid.uuid4())}}\n",
    "\n",
    "    state_dict = custom_graph.invoke(\n",
    "        {\"question\": example[\"input\"], \"steps\": []}, config\n",
    "    )\n",
    "\n",
    "    # Print the state dictionary for debugging\n",
    "    #print(\"State Dictionary:\", state_dict)\n",
    "\n",
    "    return {\"response\": state_dict[\"cleaned_text\"], \"steps\": state_dict[\"steps\"]}\n",
    "\n",
    "\n",
    "example = {\"input\": \"갑자(甲子)\"}\n",
    "response = predict_custom_agent_answer(example)\n",
    "print(response)"
   ]
  }
 ],
 "metadata": {
  "kernelspec": {
   "display_name": "env",
   "language": "python",
   "name": "python3"
  },
  "language_info": {
   "codemirror_mode": {
    "name": "ipython",
    "version": 3
   },
   "file_extension": ".py",
   "mimetype": "text/x-python",
   "name": "python",
   "nbconvert_exporter": "python",
   "pygments_lexer": "ipython3",
   "version": "3.12.5"
  }
 },
 "nbformat": 4,
 "nbformat_minor": 2
}
