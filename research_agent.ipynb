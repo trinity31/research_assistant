{
 "cells": [
  {
   "cell_type": "code",
   "execution_count": 1,
   "metadata": {},
   "outputs": [
    {
     "data": {
      "text/plain": [
       "True"
      ]
     },
     "execution_count": 1,
     "metadata": {},
     "output_type": "execute_result"
    }
   ],
   "source": [
    "from dotenv import load_dotenv\n",
    "\n",
    "load_dotenv()"
   ]
  },
  {
   "cell_type": "markdown",
   "metadata": {},
   "source": [
    "### 1. 그래프 상태 정의"
   ]
  },
  {
   "cell_type": "code",
   "execution_count": 131,
   "metadata": {},
   "outputs": [],
   "source": [
    "from langchain.chains import LLMChain\n",
    "from langchain.prompts import PromptTemplate\n",
    "from langchain_ollama import ChatOllama\n",
    "from langchain.chat_models import ChatOpenAI\n",
    "from langchain_core.output_parsers import StrOutputParser\n",
    "from langchain_community.utilities import GoogleSerperAPIWrapper\n",
    "from langchain_nomic.embeddings import NomicEmbeddings\n",
    "from langgraph.graph import START, END, StateGraph\n",
    "from typing_extensions import TypedDict, List\n",
    "from bs4 import BeautifulSoup\n",
    "import requests\n",
    "import uuid\n",
    "import json\n",
    "from IPython.display import Image, display\n",
    "from langchain.text_splitter import RecursiveCharacterTextSplitter\n",
    "from langchain.vectorstores import FAISS\n",
    "from langchain.llms import OpenAI\n",
    "from langchain.chains import LLMChain\n",
    "from langchain_community.vectorstores import SKLearnVectorStore\n",
    "from transformers import pipeline\n",
    "import re\n",
    "\n",
    "# Define the GraphState class\n",
    "class GraphState(TypedDict):\n",
    "    question: str\n",
    "    documents: List[str]\n",
    "    cleaned_text: str\n",
    "    steps: List[str]"
   ]
  },
  {
   "cell_type": "markdown",
   "metadata": {},
   "source": [
    "### 3. 노드 함수 정의"
   ]
  },
  {
   "cell_type": "code",
   "execution_count": 133,
   "metadata": {},
   "outputs": [],
   "source": [
    "# 구글에서 문서를 검색하는 노드\n",
    "def search_google(state):\n",
    "    question = state[\"question\"]\n",
    "    search = GoogleSerperAPIWrapper(gl=\"kr\", hl=\"ko\", k=10)\n",
    "    results = search.results(question)\n",
    "\n",
    "    # Print the results for debugging\n",
    "    #print(\"Search Results:\", results)\n",
    "\n",
    "    # Extract links from the 'organic' search results\n",
    "    documents = [result[\"link\"] for result in results.get(\"organic\", [])]\n",
    "    steps = state[\"steps\"]\n",
    "    steps.append(\"search_google\")\n",
    "    return {\"documents\": documents, \"question\": question, \"steps\": steps}\n",
    "\n",
    "\n",
    "# 문서의 본문을 가져오는 노드\n",
    "def fetch_documents(state):\n",
    "    documents = state[\"documents\"]\n",
    "    fetched_docs = []\n",
    "    for url in documents:\n",
    "        response = requests.get(url)\n",
    "        soup = BeautifulSoup(response.content, \"html.parser\")\n",
    "        paragraphs = soup.find_all(\"p\")\n",
    "        text = \" \".join([p.get_text() for p in paragraphs])\n",
    "        fetched_docs.append(text)\n",
    "    steps = state[\"steps\"]\n",
    "    steps.append(\"fetch_documents\")\n",
    "    return {\"documents\": fetched_docs, \"question\": state[\"question\"], \"steps\": steps}\n",
    "\n",
    "\n",
    "# 문서를 정리하는 노드\n",
    "def clean_documents(state):\n",
    "    documents = state[\"documents\"]\n",
    "    combined_text = \" \".join(documents)\n",
    "\n",
    "    # 키워드를 파일명으로 사용\n",
    "    keyword = state[\"question\"]\n",
    "    sanitized_keyword = re.sub(\n",
    "        r'[\\\\/*?:\"<>|]', \"\", keyword\n",
    "    )  # 파일명에 사용할 수 없는 문자 제거\n",
    "    filename = f\"{sanitized_keyword}_original_text.txt\"\n",
    "\n",
    "    # 요약하기 전의 텍스트를 파일에 저장\n",
    "    with open(filename, \"w\", encoding=\"utf-8\") as file:\n",
    "        file.write(combined_text)\n",
    "\n",
    "    # 문장을 분리\n",
    "    text_splitter = RecursiveCharacterTextSplitter(chunk_size=1000, chunk_overlap=0)\n",
    "    sentences = text_splitter.split_text(combined_text)\n",
    "\n",
    "    # 요약을 위한 프롬프트 템플릿 생성\n",
    "    prompt_template = PromptTemplate(\n",
    "        input_variables=[\"text\"],\n",
    "        template=\"키워드는 {keyword} 입니다. 다음 텍스트에서 키워드와 직접적으로 관련 있는 내용만 발췌해 주세요. \\n\\n{text}\",\n",
    "    )\n",
    "\n",
    "    # LLMChain 생성\n",
    "    # llm = ChatOllama(\n",
    "    #     model=\"llama3.1\",\n",
    "    #     temperature=0)\n",
    "    llm = ChatOpenAI(model=\"gpt-4o-mini\", temperature=0)\n",
    "    summarization_chain = LLMChain(llm=llm, prompt=prompt_template)\n",
    "\n",
    "    # 문서 요약 생성\n",
    "    summaries = []\n",
    "    for sentence in sentences:\n",
    "        summary = summarization_chain.run(text=sentence, keyword=keyword)\n",
    "        summaries.append(summary)\n",
    "\n",
    "    cleaned_text = \" \".join(summaries)\n",
    "    steps = state[\"steps\"]\n",
    "    steps.append(\"clean_documents\")\n",
    "    return {\"cleaned_text\": cleaned_text, \"question\": state[\"question\"], \"steps\": steps}\n",
    "\n",
    "\n",
    "# 텍스트 파일로 저장하는 노드\n",
    "def save_to_file(state):\n",
    "    cleaned_text = state[\"cleaned_text\"]\n",
    "\n",
    "    # 키워드를 파일명으로 사용\n",
    "    keyword = state[\"question\"]\n",
    "    sanitized_keyword = re.sub(\n",
    "        r'[\\\\/*?:\"<>|]', \"\", keyword\n",
    "    )  # 파일명에 사용할 수 없는 문자 제거\n",
    "    filename = f\"{sanitized_keyword}_research_result.txt\"\n",
    "\n",
    "    with open(filename, \"w\", encoding=\"utf-8\") as file:\n",
    "        file.write(cleaned_text)\n",
    "        \n",
    "    steps = state[\"steps\"]\n",
    "    steps.append(\"save_to_file\")\n",
    "    return {\"cleaned_text\": cleaned_text, \"question\": state[\"question\"], \"steps\": steps}"
   ]
  },
  {
   "cell_type": "markdown",
   "metadata": {},
   "source": [
    "### 3. 그래프 정의 및 빌드"
   ]
  },
  {
   "cell_type": "code",
   "execution_count": 134,
   "metadata": {},
   "outputs": [
    {
     "data": {
      "image/jpeg": "[encoded data removed]",
      "text/plain": [
       "<IPython.core.display.Image object>"
      ]
     },
     "metadata": {},
     "output_type": "display_data"
    }
   ],
   "source": [
    "# Graph\n",
    "workflow = StateGraph(GraphState)\n",
    "\n",
    "# Define the nodes\n",
    "workflow.add_node(\"search_google\", search_google)  # Google search\n",
    "workflow.add_node(\"fetch_documents\", fetch_documents)  # Fetch documents\n",
    "workflow.add_node(\"clean_documents\", clean_documents)  # Clean documents\n",
    "workflow.add_node(\"save_to_file\", save_to_file)  # Save to file\n",
    "\n",
    "# Build graph\n",
    "workflow.add_edge(START, \"search_google\")\n",
    "workflow.add_edge(\"search_google\", \"fetch_documents\")\n",
    "workflow.add_edge(\"fetch_documents\", \"clean_documents\")\n",
    "workflow.add_edge(\"clean_documents\", \"save_to_file\")\n",
    "workflow.add_edge(\"save_to_file\", END)\n",
    "\n",
    "custom_graph = workflow.compile()\n",
    "\n",
    "display(Image(custom_graph.get_graph(xray=True).draw_mermaid_png()))"
   ]
  },
  {
   "cell_type": "markdown",
   "metadata": {},
   "source": [
    "### 4. 에이전트 실행 함수 정의"
   ]
  },
  {
   "cell_type": "code",
   "execution_count": 135,
   "metadata": {},
   "outputs": [
    {
     "name": "stderr",
     "output_type": "stream",
     "text": [
      "/var/folders/0q/rrv0s8pn0d78fk2pt7fl2r400000gn/T/ipykernel_55792/200000274.py:62: LangChainDeprecationWarning: The class `ChatOpenAI` was deprecated in LangChain 0.0.10 and will be removed in 1.0. An updated version of the class exists in the langchain-openai package and should be used instead. To use it run `pip install -U langchain-openai` and import as `from langchain_openai import ChatOpenAI`.\n",
      "  llm = ChatOpenAI(model=\"gpt-4o-mini\", temperature=0)\n"
     ]
    },
    {
     "name": "stdout",
     "output_type": "stream",
     "text": [
      "{'response': '갑자(甲子)는 60간지 중 1번째이다. \\'갑\\'은 청이므로 \\'파란 쥐의 해\\'다. 납음은 해중금(海中金)이다.  \\n갑자년(甲子年)은 60갑자 혹은 60간지의 1번째이다. 서력 연도를 60으로 나눠 나머지가 4인 해가 해당된다.  \\n갑자일(甲子日)은 일진이 갑자인 날로, 육십간지의 1번째 날이다. 올해가 어떤 해인지 결정짓는 것은 ‘60갑자(甲子)’다. 60갑자(갑자-계해)를 한 생애(生涯)라 하고, 60갑자 첫 번째인 갑자(甲子)는 천간은 갑목(甲木), 지지는 자수(子水)로 되어 있다. 갑자년에 일어난 사건들을 살펴보면, 조선시대 1504년(연산군 10년) 갑자사화가 있다. 연산군의 어머니 폐비 윤씨의 복위 문제로 인하여 일어난 사화로, 연산군이 폐비 윤씨의 복위를 추진하면서 성종 때 폐비를 찬성한 훈구 원로세력이 대부분 숙청을 당했다. 1924년 갑자년에 일본은 조선반도에서 처음으로 징용을 모집해 보국대란 명분으로 나이 18∼19세의 젊은이들이 신체검사 후 군수물자 생산 공장으로 끌려가 일했다. 일명 ‘묻지마 갑자생’이라 불렀다. 갑자를 ‘고목나무 아래 쥐’로도 표현한다. 그러나 ‘춘양목 아래 쥐’가 노는 평화로운 곳이 되기 위해서는 지역의 지식인, 기업인, 언론인 그리고 시민들이 건강한 자유 시민으로서 행동에 동참하여 지역의 낙후된 문화, 예술, 언론 분야에 한 목소리를 내야 한다. 올해가 어떤 해인지 결정짓는 것은 ‘60갑자(甲子)’다. 60갑자 첫 번째인 갑자(甲子)는 천간은 갑목(甲木), 지지는 자수(子水)로 되어 있다. 갑자년에 일어난 사건들을 살펴보면, 조선시대 1504년(연산군 10년) 갑자사화가 있다. 1924년 갑자년에 일본은 조선반도에서 처음으로 징용을 모집해 보국대란 명분으로 나이 18∼19세의 젊은이들이 신체검사 후 군수물자 생산 공장으로 끌려가 일했다. 일명 ‘묻지마 갑자생’이라 불렀다. 주어진 텍스트에서 \\'갑자(甲子)\\'와 직접적으로 관련된 내용은 포함되어 있지 않습니다. \\'갑자\\'는 주로 간지(干支)와 관련된 용어로, 특정한 역사적 사건이나 인물과 연결될 수 있지만, 제공된 내용에서는 그러한 언급이 없습니다. 텍스트는 주로 \\'암태도 소작쟁의\\'와 관련된 내용에 집중하고 있습니다. 키워드 \\'갑자(甲子)\\'와 직접적으로 관련 있는 내용은 다음과 같습니다:\\n\\n\"갑자를 ‘고목나무 아래 쥐’로도 표현한다. 그러나 ‘춘양목 아래 쥐’가 노는 평화로운 곳이 되기 위해서는 지역의 지식인, 기업인, 언론인 그리고 시민들이 건강한 자유 시민으로서 행동에 동참하여 지역의 낙후된 문화, 예술, 언론 분야에 한 목소리를 내야 한다.\" 1. 갑자일주의 기본 특성: 갑자일주는 갑목(甲木)과 자수(子水)의 결합으로 이루어진 날이다. 갑목은 양의 목(木)으로, 강한 생명력과 새로운 시작을 상징하며, 주도적이고 진취적인 성향을 가진다. 자수는 음의 수(水)로, 내면의 깊은 지혜와 잠재력을 상징하며, 갑목을 생(生)하여 그 에너지를 더욱 강화한다. 이러한 결합으로 인해 갑자일은 창의적이고 진취적인 기운이 강하게 작용하며, 새로운 시작과 변화를 추구하는 성향이 강하다.\\n\\n2. 지장간과 십신: 갑자일주의 지장간은 임수(壬水)와 계수(癸水)가 포함되어 있다. 이 두 수의 기운은 갑목에 강력한 생명력을 공급하고, 내면의 깊은 감정과 직관을 강화한다. 갑자일주는 이 지장간의 영향으로 감정이 깊고 지적인 성향을 보인다. 갑자일주의 십신은 정인(正印)으로, 학문적 성취와 보호, 지원을 상징한다. 이로 인해 갑자일주는 지적 호기심이 강하며, 학문이나 교육에 대한 열정이 돋보인다.\\n\\n3. 십이운성과 도화살: 갑자일주의 십이운성은 목욕(沐浴)에 해당하며, 이는 정화와 변화를 상징한다. 자수는 도화살의 성질을 지니고 있어 감정적이거나 예술적 성향이 강하다. 갑자일주는 이성에게 매력적이라 자칫하면 이성 관계에서 지나친 충동이나 혼란으로 불필요한 갈등에 휩싸일 수 있으니 주의해야 한다.\\n\\n4. 성격과 특징: 자신감과 자존심: 갑자일주는 강한 자신감과 자존심을 가지고 있으며, 자신의 원칙을 중시한다. 타인에게 굽히지 않고, 자신의 신념을 지키는 모습을 보인다. 창의성과 학문적 열정: 갑자일주는 갑자일주는 리더십을 발휘하며, 대인관계에서도 비중있는 역할을 한다. 타인과의 관계에서 자신의 주장을 잘 펼치지만, 지나친 독립성으로 인해 협력에서 어려움을 겪을 수 있다. 갑자일주는 교육, 연구, 예술 등 정신적 활동이 요구되는 직업에서 두각을 나타낼 수 있다. 특히 창의적이고 자유로운 환경에서 능력을 발휘할 수 있으며, 공직이나 학문적 분야에서도 성공할 가능성이 높다. 갑자일주는 기본적으로 강력한 수 기운이 목을 생해주는 구조를 가지고 있다. 주변의 천간과 지지가 강력한 수의 기운이 적절히 조화를 이루도록 돕는다면 갑목의 성장을 도울 수 있다. 따라서, 갑자일주는 자신의 에너지를 잘 관리하여 균형을 유지하는 것이 중요하다. 갑자일은 새로운 시작과 강력한 생명력이 결합된 날이다. 갑자일에는 자신의 강한 에너지를 긍정적인 방향으로 활용하고, 지나친 욕망이나 혼란스러운 감정에 휘둘리지 않도록 주의해야 한다. 이 날의 에너지를 잘 활용하면 큰 성취를 이룰 수 있으나, 감정 기복과 자존심에 휘둘리면 오히려 혼란을 겪을 수 있다. 균형과 조화를 유지하며 자신의 방향을 명확히 하는 것이 갑자일을 성공적으로 맞이하는 핵심이다. 키워드 \"갑자(甲子)\"와 직접적으로 관련 있는 내용은 다음과 같습니다:\\n\\n- 간지이야기 > 육십갑자\\n- 육십갑자 연도적용 일람표\\n- 간지관련 사건 목록/용어 키워드 \"갑자(甲子)\"와 직접적으로 관련 있는 내용은 다음과 같습니다:\\n\\n1. 甲子(갑자) \\n   - 서기 연도와 연결: 1504 / 1564 / 1624 / 1684 / 1744 / 1804 / 1864 / 1924 / 1984년 / 2044 / 2104\\n\\n2. 甲子(갑자)와 관련된 다른 간지:\\n   - 11. 甲戌(갑술)\\n   - 21. 甲申(갑신)\\n   - 31. 甲午(갑오)\\n   - 41. 甲辰(갑진)\\n   - 51. 甲寅(갑인) \\n\\n이 내용은 갑자와 관련된 서기 연도 및 다른 간지와의 연결을 포함하고 있습니다. 키워드 \"갑자(甲子)\"와 직접적으로 관련 있는 내용은 다음과 같습니다:\\n\\n- 37. 庚子(경자) \\n\\n이 외의 내용은 \"갑자\"와 직접적인 관련이 없습니다. - 천간의 \\'甲\\'과 지지의 \\'子\\'가 결합해서 다음 순서대로 적용되어 \\'癸亥\\'까지 60개가 조합되기 때문에 홀수 순서끼리 만나고, 짝수 순서끼리 만나게 됨.\\n- 서기 4년이 갑자년(甲子年)임. \\n- 곧, 서기 604년, 1204년, 1804년, 2404년, 3004년 등 모두 갑자년임. 항상 서기 연도의 끝자리가 4년으로 끝나면 간지의 앞자리가 \\'갑(甲)\\'이 됨. 주어진 텍스트에는 \"갑자(甲子)\"와 직접적으로 관련된 내용이 포함되어 있지 않습니다. \"갑자\"에 대한 정보나 설명이 필요하다면 다른 자료를 참고하시기 바랍니다. 키워드 \"갑자(甲子)\"와 직접적으로 관련 있는 내용은 다음과 같습니다:\\n\\n- 육십갑자(六十甲子)란 갑을병정무기경신임계(甲乙丙丁戊己庚辛壬癸) 10천간(天干)과 자축인묘진사오미신유술해(子丑寅卯辰巳午未申酉戌亥) 12지지(地支)를 차례로 맞추어 쓴 것으로 60년을 한 주기로 한 것을 말합니다.\\n- 각각의 띠는 60년마다 자기 자신이 태어난 해가 돌아오는 해를 환갑(還甲)이라고 합니다.\\n- 여기까지 \\'흙이랑농장\\'의 새해 맞이 육십갑자(六十甲子) 이야기였습니다. 제공된 텍스트에서 \"갑자(甲子)\"와 직접적으로 관련된 내용은 없습니다. 텍스트는 농장과 관련된 꿈, 인연, 그리고 다양한 주제에 대한 이야기로 구성되어 있으며, 갑자에 대한 언급이나 관련 내용은 포함되어 있지 않습니다. 텍스트에서 \"갑자(甲子)\"와 직접적으로 관련 있는 내용은 다음과 같습니다:\\n\\n- 갑자(甲子)는 60갑자의 첫 번째로, 천간과 지지가 결합된 형태로, 시간이나 연도를 나타내는 데 사용됩니다. \\n- 갑자(甲子)는 주로 동아시아의 전통적인 달력 시스템에서 중요한 역할을 하며, 특정한 주기와 관련된 의미를 가집니다. \\n\\n이 외의 내용은 갑자와 직접적인 관련이 없습니다. 키워드 \"갑자(甲子)\"와 직접적으로 관련 있는 내용은 다음과 같습니다:\\n\\n- <°©ÀÚ(Ë£í\\xad)>ÀÇ ÁöÁö(ò¢ò¨)ÀÎ ÀÚ(í\\xad)¼Ó¿¡ ¼û¾îÀÖ´Â ÁöÀå°£(ò¢íúÊÎ)¿¡´Â ¹Ù·Î <ìó10•Í¤10•Í¤10>¶ó´Â ÀÏÁö(ìíò¨)ÀÇ ÆíÀÎ(ø¶ìÔ=ìóâ©)°ú Á¤ÀÎ(ïáìÔ=Í¤â©)ÀÇ ±â¿îÀÌ ÀÚ¸®ÇÏ°í ÀÖ´Ù.\\n- <°©ÀÚ(Ë£í\\xad)>¿¡¼\\xad °©(Ë£)Àº ¸ñ(ÙÊ)ÀÌ°í ÀÚ(í\\xad)´Â ¼ö(â©)¿¡ ÇØ´çÇÑ´Ù.\\n- <°©ÀÚ(Ë£í\\xad)ÀÏ>¿¡ Ãâ»ýÇÔÀº °©¸ñ(Ë£ÙÊ)ÀÌ Áã(í\\xad)¿¡ ÇØ´çÇÏ´Â ³¯¿¡ ÅÂ¾î³µÀ½À» »óÂ¡ÇÑ´Ù. \\n\\n이 내용들은 \"갑자(甲子)\"와 관련된 특정 문맥을 포함하고 있습니다. 텍스트에서 \"갑자(甲子)\"와 직접적으로 관련 있는 내용은 다음과 같습니다:\\n\\n\"¼Ó¸¶À½À» Àß ³»º¸ÀÌÁö ¾Ê´Â °æÇâÀÌ ÀÖ´Ù.\" \\n\\n이 문장은 갑자와 관련된 내용을 언급하고 있습니다. 나머지 내용은 갑자와 직접적인 관련이 없습니다. 키워드 \"갑자(甲子)\"와 직접적으로 관련 있는 내용은 다음과 같습니다:\\n\\n- 갑자(甲子)와 관련된 내용은 텍스트에서 직접적으로 언급되지 않았습니다. \\n\\n제공된 텍스트에는 \"갑자\"라는 키워드와 관련된 정보가 포함되어 있지 않으므로, 관련 내용을 발췌할 수 없습니다. 키워드 \"갑자(甲子)\"와 직접적으로 관련 있는 내용은 다음과 같습니다:\\n\\n\"±×·±µ¥ ¿©¼ºÀÇ »çÁÖ¿¡ È¿½Å»ì(üüãêß¯)ÀÌ ÀÏ½Ã(ìíãÁ)ÀÇ 2°÷¿¡ µ¿½Ã¿¡ ÀÖÀ» °æ¿ì¿¡´Â \\'½Ä»ó(ãÝß¿)=ÀÚ³à¸¦ ±Ø(Ð»)ÇÏ±â ¶§¹®\\'¿¡ ÀÚ¼Õ°ú ÀÎ¿¬ÀÌ Èñ¹ÚÇØ ÀÚ¼ÕÀÌ\" \\n\\n이 부분에서 \"갑자\"와 관련된 내용을 찾을 수 있습니다. 키워드 \"갑자(甲子)\"와 직접적으로 관련 있는 내용은 다음과 같습니다:\\n\\n\"±ÍÇÏ°í ¸¸¾à¿¡ <Ãà¿ù(õäêÅ)ÀÇ Ãà½Ã(õäãÁ)³ª ÀÚ½Ã(í\\xadãÁ)»ý>ÀÌ¶ó¸é ½½ÇÏ¿¡ ÀÚ³à¸¦ µÎ±â ¾î·Æ´Ù°í ÇÒ °ÍÀÌ´Ù.\" \\n\\n이 부분에서 \"갑자\"와 관련된 내용을 찾을 수 있습니다. 키워드 \"갑자(甲子)\"와 직접적으로 관련 있는 내용은 다음과 같습니다:\\n\\n\"갑자(甲子)\"는 60갑자의 첫 번째로, 천간과 지지의 조합으로 이루어진다. 갑자는 주로 시간, 날짜, 연도 등을 나타내는 데 사용되며, 전통적인 동아시아의 달력 체계에서 중요한 역할을 한다. 갑자는 또한 특정한 성격이나 기운을 상징하며, 이를 통해 사람의 운세나 성격을 해석하기도 한다. 주어진 텍스트에서 \"갑자(甲子)\"와 직접적으로 관련 있는 내용은 없습니다. 텍스트는 다른 주제에 대한 내용으로 보입니다. 추가적인 정보나 다른 텍스트를 제공해 주시면 더 도움을 드릴 수 있습니다. 제공된 텍스트에서 \"갑자(甲子)\"와 직접적으로 관련 있는 내용은 없습니다. \"갑자\"에 대한 언급이나 관련된 내용이 포함되어 있지 않습니다.', 'steps': ['search_google', 'fetch_documents', 'clean_documents', 'save_to_file']}\n"
     ]
    }
   ],
   "source": [
    "def predict_custom_agent_answer(example: dict):\n",
    "    config = {\"configurable\": {\"thread_id\": str(uuid.uuid4())}}\n",
    "\n",
    "    state_dict = custom_graph.invoke(\n",
    "        {\"question\": example[\"input\"], \"steps\": []}, config\n",
    "    )\n",
    "\n",
    "    # Print the state dictionary for debugging\n",
    "    #print(\"State Dictionary:\", state_dict)\n",
    "\n",
    "    return {\"response\": state_dict[\"cleaned_text\"], \"steps\": state_dict[\"steps\"]}\n",
    "\n",
    "\n",
    "example = {\"input\": \"갑자(甲子)\"}\n",
    "response = predict_custom_agent_answer(example)\n",
    "print(response)"
   ]
  }
 ],
 "metadata": {
  "kernelspec": {
   "display_name": "env",
   "language": "python",
   "name": "python3"
  },
  "language_info": {
   "codemirror_mode": {
    "name": "ipython",
    "version": 3
   },
   "file_extension": ".py",
   "mimetype": "text/x-python",
   "name": "python",
   "nbconvert_exporter": "python",
   "pygments_lexer": "ipython3",
   "version": "3.12.5"
  }
 },
 "nbformat": 4,
 "nbformat_minor": 2
}
