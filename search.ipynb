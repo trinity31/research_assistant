{
 "cells": [
  {
   "cell_type": "code",
   "execution_count": null,
   "metadata": {},
   "outputs": [],
   "source": [
    "from langchain_community.utilities import GoogleSerperAPIWrapper\n",
    "from dotenv import load_dotenv\n",
    "import os\n",
    "import pprint\n",
    "\n",
    "load_dotenv()\n",
    "\n",
    "# Google 에서 키워드 검색을 해서 결과를 겨져옵니다.\n",
    "# Obtaining results with metadata\n",
    "# https://python.langchain.com/v0.2/docs/integrations/tools/google_serper/\n",
    "\n",
    "search = GoogleSerperAPIWrapper(gl=\"kr\", hl=\"ko\", k=20)\n",
    "results = search.results(\"갑자(甲子) 일주론\")\n",
    "pprint.pp(results)\n",
    "\n"
   ]
  },
  {
   "cell_type": "code",
   "execution_count": 48,
   "metadata": {},
   "outputs": [],
   "source": [
    "import requests\n",
    "from bs4 import BeautifulSoup\n",
    "from langchain.text_splitter import RecursiveCharacterTextSplitter\n",
    "from langchain.llms import OpenAI\n",
    "from langchain.prompts import PromptTemplate\n",
    "from langchain.chains import LLMChain\n",
    "from langchain.chat_models import ChatOpenAI\n",
    "\n",
    "def website_scrape(link):\n",
    "    response = requests.get(link)\n",
    "    soup = BeautifulSoup(response.text, \"html.parser\")\n",
    "    # 모든 <p> 태그의 텍스트를 추출하고 결합\n",
    "    content = \" \".join([p.text for p in soup.find_all(\"p\")])\n",
    "    return content\n",
    "\n",
    "\n",
    "def scrape_and_combine_content(inputs):\n",
    "    combined_content = \"\"\n",
    "    for input in inputs:\n",
    "        link = input[\"link\"]\n",
    "        content = website_scrape(link)\n",
    "        combined_content += f\"URL: {link}\\n\\n{content}\\n\\n\"\n",
    "    return combined_content\n",
    "\n",
    "\n",
    "def remove_duplicates(text):\n",
    "    # LangChain을 사용하여 중복 제거\n",
    "    llm = ChatOpenAI( model_name=\"gpt-4o-mini\", temperature=0.9)\n",
    "\n",
    "    prompt_template = \"\"\"\n",
    "    다음 텍스트에서 중복되는 내용이 있다면 제거해 주세요. 텍스트의 내용을 요약하거나 제거하지 마세요. 오직 중복되는 내용만 제거해 주세요.\n",
    "    {text}\n",
    "    \"\"\"\n",
    "    prompt = PromptTemplate(template=prompt_template, input_variables=[\"text\"])\n",
    "    chain = LLMChain(llm=llm, prompt=prompt)\n",
    "\n",
    "    result = chain.run(text)\n",
    "    return result"
   ]
  },
  {
   "cell_type": "code",
   "execution_count": 50,
   "metadata": {},
   "outputs": [],
   "source": [
    "combined_content = scrape_and_combine_content(results[\"organic\"])\n",
    "# unique_content = remove_duplicates(combined_content)\n",
    "\n",
    "with open(\"combined_content.txt\", \"w\", encoding=\"utf-8\") as file:\n",
    "    file.write(combined_content)"
   ]
  }
 ],
 "metadata": {
  "kernelspec": {
   "display_name": "env",
   "language": "python",
   "name": "python3"
  },
  "language_info": {
   "codemirror_mode": {
    "name": "ipython",
    "version": 3
   },
   "file_extension": ".py",
   "mimetype": "text/x-python",
   "name": "python",
   "nbconvert_exporter": "python",
   "pygments_lexer": "ipython3",
   "version": "3.12.5"
  }
 },
 "nbformat": 4,
 "nbformat_minor": 2
}
